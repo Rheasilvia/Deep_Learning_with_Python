{
 "cells": [
  {
   "cell_type": "code",
   "execution_count": 1,
   "metadata": {},
   "outputs": [],
   "source": [
    "#温度预测\n",
    "import os\n",
    "fname = os.path.join(\"jena_climate_2009_2016\",\"jena_climate_2009_2016.csv\")\n",
    "\n",
    "f = open(fname)\n",
    "data = f.read()\n",
    "f.close()"
   ]
  },
  {
   "cell_type": "code",
   "execution_count": 2,
   "metadata": {},
   "outputs": [
    {
     "name": "stderr",
     "output_type": "stream",
     "text": [
      "IOPub data rate exceeded.\n",
      "The notebook server will temporarily stop sending output\n",
      "to the client in order to avoid crashing it.\n",
      "To change this limit, set the config variable\n",
      "`--NotebookApp.iopub_data_rate_limit`.\n",
      "\n",
      "Current values:\n",
      "NotebookApp.iopub_data_rate_limit=1000000.0 (bytes/sec)\n",
      "NotebookApp.rate_limit_window=3.0 (secs)\n",
      "\n"
     ]
    }
   ],
   "source": [
    "lines = data.split('\\n')\n",
    "header = lines[0].split(',')\n",
    "lines = lines[1:]\n",
    "\n",
    "print(header)\n",
    "print(lines)"
   ]
  },
  {
   "cell_type": "code",
   "execution_count": 3,
   "metadata": {},
   "outputs": [
    {
     "data": {
      "text/plain": [
       "['\"Date Time\"',\n",
       " '\"p (mbar)\"',\n",
       " '\"T (degC)\"',\n",
       " '\"Tpot (K)\"',\n",
       " '\"Tdew (degC)\"',\n",
       " '\"rh (%)\"',\n",
       " '\"VPmax (mbar)\"',\n",
       " '\"VPact (mbar)\"',\n",
       " '\"VPdef (mbar)\"',\n",
       " '\"sh (g/kg)\"',\n",
       " '\"H2OC (mmol/mol)\"',\n",
       " '\"rho (g/m**3)\"',\n",
       " '\"wv (m/s)\"',\n",
       " '\"max. wv (m/s)\"',\n",
       " '\"wd (deg)\"']"
      ]
     },
     "execution_count": 3,
     "metadata": {},
     "output_type": "execute_result"
    }
   ],
   "source": [
    "header"
   ]
  },
  {
   "cell_type": "code",
   "execution_count": 4,
   "metadata": {},
   "outputs": [],
   "source": [
    "#解析数据\n",
    "import numpy as np\n",
    "\n",
    "float_data = np.zeros((len(lines), len(header) - 1))\n",
    "for i, line in enumerate(lines):\n",
    "    values = [float(x) for x in line.split(',')[1:]]\n",
    "    float_data[i, :] = values\n"
   ]
  },
  {
   "cell_type": "code",
   "execution_count": 5,
   "metadata": {},
   "outputs": [
    {
     "data": {
      "text/plain": [
       "<Figure size 640x480 with 1 Axes>"
      ]
     },
     "metadata": {},
     "output_type": "display_data"
    }
   ],
   "source": [
    "import matplotlib.pyplot as plt\n",
    "temp = float_data[:,1]#温度\n",
    "\n",
    "plt.plot(range(len(temp)), temp)\n",
    "plt.show()"
   ]
  },
  {
   "cell_type": "code",
   "execution_count": 6,
   "metadata": {},
   "outputs": [
    {
     "data": {
      "image/png": "[encoded data removed]",
      "text/plain": [
       "<Figure size 432x288 with 1 Axes>"
      ]
     },
     "metadata": {
      "needs_background": "light"
     },
     "output_type": "display_data"
    }
   ],
   "source": [
    "#绘制前10天的温度时间序列\n",
    "#每10分钟记录一个数据,每天144个\n",
    "plt.plot(range(1440), temp[:1440])\n",
    "plt.show()"
   ]
  },
  {
   "cell_type": "markdown",
   "metadata": {},
   "source": [
    "需要完成以下2件事情:\n",
    "- 将数据预处理为神经网络可以处理的格式,需要对每个时间序列标准化,因为温度气压位于不同范围\n",
    "\n",
    "- 编写python生成器,以当前的浮点数数组作为输入,并从最近的数据中生成数据批量,同时生成未来的目标温度.\n"
   ]
  },
  {
   "cell_type": "code",
   "execution_count": 7,
   "metadata": {},
   "outputs": [],
   "source": [
    "#标准化\n",
    "mean = float_data[:200000].mean(axis=0)\n",
    "float_data -= mean\n",
    "std = float_data[:200000].std(axis=0)\n",
    "float_data /= std\n"
   ]
  },
  {
   "cell_type": "code",
   "execution_count": 8,
   "metadata": {},
   "outputs": [],
   "source": [
    "# 生成时间序列样本及其目标的生成器\n",
    "def generator(data, lookback, delay, min_index, max_index,\n",
    "              shuffle=False, batch_size=128,\n",
    "              step=6):\n",
    "    \"\"\"\n",
    "    \n",
    "    :param data: 浮点数数据组成的原始数组\n",
    "    :param lookback: 输入数据应该包括过去多少个时间步\n",
    "    :param delay: 目标应该在未来多少个时间步之后\n",
    "    :param min_index: data数组中的索引,用于界定需要抽取哪些时间步/用于验证集和测试分类\n",
    "    :param max_index: 同上\n",
    "    :param shuffle: 打乱?\n",
    "    :param batch_size: 每批样本数量\n",
    "    :param step: 采样周期\n",
    "    \"\"\"\n",
    "    if max_index is None:\n",
    "        max_index = len(data) - delay - 1\n",
    "    i = min_index + lookback\n",
    "\n",
    "    while 1:\n",
    "        if shuffle:\n",
    "            rows = np.random.randint(min_index + lookback, max_index, size=batch_size)\n",
    "        else:\n",
    "            if i + batch_size >= max_index:\n",
    "                i = min_index + lookback\n",
    "            rows = np.arange(i, min(i + batch_size, max_index))\n",
    "            i += len(rows)\n",
    "\n",
    "        samples = np.zeros((len(rows), lookback // step, data.shape[-1]))\n",
    "\n",
    "        targets = np.zeros((len(rows),))\n",
    "        for j, row in enumerate(rows):\n",
    "            indices = range(rows[j] - lookback, rows[j], step)\n",
    "            samples[j] = data[indices]\n",
    "            targets[j] = data[rows[j] + delay][1]\n",
    "        yield samples, targets\n"
   ]
  },
  {
   "cell_type": "code",
   "execution_count": 9,
   "metadata": {},
   "outputs": [],
   "source": [
    "#准备生成器,验证集生成器和测试集生成器\n",
    "lookback = 1440\n",
    "step = 6\n",
    "delay = 144\n",
    "batch_size = 128\n",
    "\n",
    "train_gen = generator(float_data,\n",
    "                      lookback=lookback,\n",
    "                      delay=delay,\n",
    "                      min_index=0,\n",
    "                      max_index=200000,\n",
    "                      shuffle=True,\n",
    "                      step=step,\n",
    "                      batch_size=batch_size)\n",
    "\n",
    "val_gen = generator(float_data,\n",
    "                    lookback=lookback,\n",
    "                    delay=delay,\n",
    "                    min_index=200001,\n",
    "                    max_index=300000,\n",
    "                    step=step,\n",
    "                    batch_size=batch_size)\n",
    "\n",
    "test_gen = generator(float_data,\n",
    "                     lookback=lookback,\n",
    "                     delay=delay,\n",
    "                     min_index=300001,\n",
    "                     max_index=None,\n",
    "                     step=step,\n",
    "                     batch_size=batch_size)\n",
    "\n",
    "val_steps = (300000 - 200000 - lookback) // batch_size\n",
    "\n",
    "test_steps = (len(float_data) - 300001 - lookback) // batch_size\n"
   ]
  },
  {
   "cell_type": "code",
   "execution_count": 10,
   "metadata": {},
   "outputs": [
    {
     "name": "stdout",
     "output_type": "stream",
     "text": [
      "1.054366071544241\n"
     ]
    }
   ],
   "source": [
    "##一种基于常识的,非机器学习的方法作为基准\n",
    "#计算符合常识的基准方法的MAE\n",
    "def evaluate_naive_method():\n",
    "    batch_maes = []\n",
    "    for step in range(val_steps):\n",
    "        samples, targets = next(val_gen)\n",
    "        preds = samples[:, -1, -1]\n",
    "        mae = np.mean(np.abs(preds - targets))\n",
    "        batch_maes.append(mae)\n",
    "    print(np.mean(batch_maes))\n",
    "\n",
    "evaluate_naive_method()"
   ]
  },
  {
   "cell_type": "code",
   "execution_count": 11,
   "metadata": {},
   "outputs": [
    {
     "data": {
      "text/plain": [
       "2.5672247338393395"
      ]
     },
     "execution_count": 11,
     "metadata": {},
     "output_type": "execute_result"
    }
   ],
   "source": [
    "#将mae转换成温度误差\n",
    "celsius_mae = 0.29 * std[1]\n",
    "celsius_mae\n"
   ]
  },
  {
   "cell_type": "code",
   "execution_count": 12,
   "metadata": {},
   "outputs": [
    {
     "name": "stderr",
     "output_type": "stream",
     "text": [
      "Using TensorFlow backend.\n"
     ]
    },
    {
     "name": "stdout",
     "output_type": "stream",
     "text": [
      "Epoch 1/20\n",
      "500/500 [==============================] - 9s 17ms/step - loss: 1.4104 - val_loss: 0.6707\n",
      "Epoch 2/20\n",
      "500/500 [==============================] - 8s 15ms/step - loss: 0.4754 - val_loss: 0.3641\n",
      "Epoch 3/20\n",
      "500/500 [==============================] - 8s 15ms/step - loss: 0.3035 - val_loss: 0.3054\n",
      "Epoch 4/20\n",
      "500/500 [==============================] - 8s 15ms/step - loss: 0.2721 - val_loss: 0.3172\n",
      "Epoch 5/20\n",
      "500/500 [==============================] - 8s 15ms/step - loss: 0.2570 - val_loss: 0.3086\n",
      "Epoch 6/20\n",
      "500/500 [==============================] - 8s 15ms/step - loss: 0.2460 - val_loss: 0.3192\n",
      "Epoch 7/20\n",
      "500/500 [==============================] - 8s 15ms/step - loss: 0.2369 - val_loss: 0.3119\n",
      "Epoch 8/20\n",
      "500/500 [==============================] - 8s 15ms/step - loss: 0.2329 - val_loss: 0.3060\n",
      "Epoch 9/20\n",
      "500/500 [==============================] - 8s 15ms/step - loss: 0.2269 - val_loss: 0.3102\n",
      "Epoch 10/20\n",
      "500/500 [==============================] - 8s 15ms/step - loss: 0.2230 - val_loss: 0.3289\n",
      "Epoch 11/20\n",
      "500/500 [==============================] - 8s 15ms/step - loss: 0.2199 - val_loss: 0.3239\n",
      "Epoch 12/20\n",
      "500/500 [==============================] - 8s 15ms/step - loss: 0.2176 - val_loss: 0.3240\n",
      "Epoch 13/20\n",
      "500/500 [==============================] - 8s 15ms/step - loss: 0.2131 - val_loss: 0.3332\n",
      "Epoch 14/20\n",
      "500/500 [==============================] - 8s 15ms/step - loss: 0.2113 - val_loss: 0.3260\n",
      "Epoch 15/20\n",
      "500/500 [==============================] - 8s 15ms/step - loss: 0.2104 - val_loss: 0.3254\n",
      "Epoch 16/20\n",
      "500/500 [==============================] - 8s 15ms/step - loss: 0.2073 - val_loss: 0.3306\n",
      "Epoch 17/20\n",
      "500/500 [==============================] - 8s 15ms/step - loss: 0.2054 - val_loss: 0.3357\n",
      "Epoch 18/20\n",
      "500/500 [==============================] - 8s 15ms/step - loss: 0.2023 - val_loss: 0.3257\n",
      "Epoch 19/20\n",
      "500/500 [==============================] - 8s 15ms/step - loss: 0.2022 - val_loss: 0.3449\n",
      "Epoch 20/20\n",
      "500/500 [==============================] - 8s 15ms/step - loss: 0.2002 - val_loss: 0.3340\n"
     ]
    }
   ],
   "source": [
    "## 一种基本的机器学习方法\n",
    "from keras.models import Sequential\n",
    "from keras import layers\n",
    "from keras.optimizers import RMSprop\n",
    "\n",
    "model = Sequential()\n",
    "model.add(layers.Flatten(input_shape=(lookback // step, float_data.shape[-1])))\n",
    "model.add(layers.Dense(32, activation='relu'))\n",
    "model.add(layers.Dense(1))\n",
    "\n",
    "model.compile(optimizer=RMSprop(),loss='mae')\n",
    "history = model.fit_generator(train_gen,\n",
    "                              steps_per_epoch=500,\n",
    "                              epochs=3,\n",
    "                              validation_data=val_gen,\n",
    "                              validation_steps=val_steps)\n",
    "\n"
   ]
  },
  {
   "cell_type": "code",
   "execution_count": 13,
   "metadata": {},
   "outputs": [
    {
     "data": {
      "image/png": "[encoded data removed]",
      "text/plain": [
       "<Figure size 432x288 with 1 Axes>"
      ]
     },
     "metadata": {
      "needs_background": "light"
     },
     "output_type": "display_data"
    }
   ],
   "source": [
    "import matplotlib.pyplot as plt\n",
    "\n",
    "loss = history.history['loss']\n",
    "val_loss = history.history['val_loss']\n",
    "\n",
    "epochs = range(1, len(loss) + 1)\n",
    "\n",
    "plt.figure()\n",
    "\n",
    "plt.plot(epochs, loss, 'bo', label='Training loss')\n",
    "plt.plot(epochs, val_loss, 'b', label='Training val loss')\n",
    "plt.title('Training and validation loss')\n",
    "plt.legend()\n",
    "\n",
    "plt.show()\n"
   ]
  },
  {
   "cell_type": "code",
   "execution_count": 15,
   "metadata": {},
   "outputs": [
    {
     "name": "stdout",
     "output_type": "stream",
     "text": [
      "Epoch 1/3\n",
      "500/500 [==============================] - 116s 232ms/step - loss: 0.3097 - val_loss: 0.2710\n",
      "Epoch 2/3\n",
      "500/500 [==============================] - 116s 231ms/step - loss: 0.2843 - val_loss: 0.2668\n",
      "Epoch 3/3\n",
      "500/500 [==============================] - 116s 232ms/step - loss: 0.2765 - val_loss: 0.2649\n"
     ]
    }
   ],
   "source": [
    "## 第一个循环网络基准使用GRU(门控循环单元)\n",
    "from keras.models import Sequential\n",
    "from keras import layers\n",
    "from keras.optimizers import RMSprop\n",
    "\n",
    "model = Sequential()\n",
    "model.add(layers.GRU(32, input_shape=(None, float_data.shape[-1])))\n",
    "model.add(layers.Dense(1))\n",
    "\n",
    "model.compile(optimizer=RMSprop(), loss='mae')\n",
    "\n",
    "history = model.fit_generator(train_gen,\n",
    "                              steps_per_epoch=500,\n",
    "                              epochs=3,\n",
    "                              validation_data=val_gen,\n",
    "                              validation_steps=val_steps)\n"
   ]
  },
  {
   "cell_type": "code",
   "execution_count": 16,
   "metadata": {},
   "outputs": [
    {
     "data": {
      "image/png": "[encoded data removed]",
      "text/plain": [
       "<Figure size 432x288 with 1 Axes>"
      ]
     },
     "metadata": {
      "needs_background": "light"
     },
     "output_type": "display_data"
    }
   ],
   "source": [
    "loss = history.history['loss']\n",
    "val_loss = history.history['val_loss']\n",
    "\n",
    "epochs = range(1, len(loss) + 1)\n",
    "\n",
    "plt.figure()\n",
    "\n",
    "plt.plot(epochs, loss, 'bo', label='Training loss')\n",
    "plt.plot(epochs, val_loss, 'b', label='Training val loss')\n",
    "plt.title('Training and validation loss')\n",
    "plt.legend()\n",
    "\n",
    "plt.show()"
   ]
  },
  {
   "cell_type": "code",
   "execution_count": 21,
   "metadata": {},
   "outputs": [
    {
     "name": "stdout",
     "output_type": "stream",
     "text": [
      "Epoch 1/1\n",
      "500/500 [==============================] - 128s 257ms/step - loss: 0.3312 - val_loss: 0.2766\n"
     ]
    }
   ],
   "source": [
    "##dropout正则化基于GRU模型\n",
    "from keras.models import Sequential\n",
    "from keras import layers\n",
    "from keras.optimizers import RMSprop\n",
    "\n",
    "model = Sequential()\n",
    "model.add(layers.GRU(32, dropout=0.2,\n",
    "                    recurrent_dropout=0.2,\n",
    "                    input_shape=(None, float_data.shape[-1])))\n",
    "model.add(layers.Dense(1))\n",
    "\n",
    "model.compile(optimizer=RMSprop(), loss='mae')\n",
    "history = model.fit_generator(train_gen,\n",
    "                             steps_per_epoch=500,\n",
    "                             epochs = 1,\n",
    "                             validation_data = val_gen,\n",
    "                             validation_steps = val_steps)"
   ]
  },
  {
   "cell_type": "code",
   "execution_count": 26,
   "metadata": {},
   "outputs": [
    {
     "name": "stdout",
     "output_type": "stream",
     "text": [
      "Train on 20000 samples, validate on 5000 samples\n",
      "Epoch 1/10\n",
      "20000/20000 [==============================] - 80s 4ms/step - loss: 0.6296 - acc: 0.6549 - val_loss: 0.5633 - val_acc: 0.7256\n",
      "Epoch 2/10\n",
      "20000/20000 [==============================] - 81s 4ms/step - loss: 0.4364 - acc: 0.8257 - val_loss: 0.3775 - val_acc: 0.8538\n",
      "Epoch 3/10\n",
      "20000/20000 [==============================] - 82s 4ms/step - loss: 0.3182 - acc: 0.8795 - val_loss: 0.3073 - val_acc: 0.8852\n",
      "Epoch 4/10\n",
      "20000/20000 [==============================] - 82s 4ms/step - loss: 0.2670 - acc: 0.9003 - val_loss: 0.3318 - val_acc: 0.8856\n",
      "Epoch 5/10\n",
      "20000/20000 [==============================] - 84s 4ms/step - loss: 0.2317 - acc: 0.9163 - val_loss: 0.3287 - val_acc: 0.8874\n",
      "Epoch 6/10\n",
      "20000/20000 [==============================] - 81s 4ms/step - loss: 0.2082 - acc: 0.9263 - val_loss: 0.4607 - val_acc: 0.8236\n",
      "Epoch 7/10\n",
      "20000/20000 [==============================] - 80s 4ms/step - loss: 0.1935 - acc: 0.9303 - val_loss: 0.3495 - val_acc: 0.8842\n",
      "Epoch 8/10\n",
      "20000/20000 [==============================] - 80s 4ms/step - loss: 0.1727 - acc: 0.9410 - val_loss: 0.6649 - val_acc: 0.7640\n",
      "Epoch 9/10\n",
      "20000/20000 [==============================] - 81s 4ms/step - loss: 0.1655 - acc: 0.9417 - val_loss: 0.3402 - val_acc: 0.8788\n",
      "Epoch 10/10\n",
      "20000/20000 [==============================] - 81s 4ms/step - loss: 0.1466 - acc: 0.9491 - val_loss: 0.3579 - val_acc: 0.8764\n"
     ]
    }
   ],
   "source": [
    "## 双向RNN训练评估一个双向LSTM\n",
    "from keras.datasets import imdb\n",
    "from keras.preprocessing import sequence\n",
    "from keras import  layers\n",
    "from keras.models import  Sequential\n",
    "\n",
    "max_features = 10000\n",
    "maxlen = 500\n",
    "\n",
    "(x_train,y_train),(x_test,y_test) = imdb.load_data(num_words = max_features)\n",
    "\n",
    "x_train = [x[::-1] for x in x_train]\n",
    "x_test = [x[::-1] for x in x_test]\n",
    "\n",
    "x_train = sequence.pad_sequences(x_train,maxlen=maxlen)\n",
    "x_test = sequence.pad_sequences(x_test,maxlen=maxlen)\n",
    "\n",
    "model = Sequential()\n",
    "model.add(layers.Embedding(max_features,32))\n",
    "model.add(layers.Bidirectional(layers.LSTM(32)))\n",
    "model.add(layers.Dense(1, activation='sigmoid'))\n",
    "\n",
    "model.compile(optimizer='rmsprop', loss='binary_crossentropy',metrics=['acc'])\n",
    "history = model.fit(x_train,y_train,\n",
    "                   epochs=10,batch_size=256,\n",
    "                    validation_split=0.2)"
   ]
  },
  {
   "cell_type": "code",
   "execution_count": null,
   "metadata": {},
   "outputs": [],
   "source": []
  }
 ],
 "metadata": {
  "kernelspec": {
   "display_name": "Python 3",
   "language": "python",
   "name": "python3"
  },
  "language_info": {
   "codemirror_mode": {
    "name": "ipython",
    "version": 3
   },
   "file_extension": ".py",
   "mimetype": "text/x-python",
   "name": "python",
   "nbconvert_exporter": "python",
   "pygments_lexer": "ipython3",
   "version": "3.6.6"
  }
 },
 "nbformat": 4,
 "nbformat_minor": 1
}
